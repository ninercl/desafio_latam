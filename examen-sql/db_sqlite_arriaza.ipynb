{
 "cells": [
  {
   "cell_type": "markdown",
   "id": "1638e077",
   "metadata": {},
   "source": [
    "## Desafio Latam - SQL"
   ]
  },
  {
   "cell_type": "code",
   "execution_count": 1,
   "id": "76ba082d",
   "metadata": {},
   "outputs": [],
   "source": [
    "import pandas as pd\n",
    "import numpy as np\n",
    "import sqlalchemy\n",
    "import sqlite3\n"
   ]
  },
  {
   "cell_type": "code",
   "execution_count": 2,
   "id": "031e7d88",
   "metadata": {},
   "outputs": [],
   "source": [
    "conn = sqlite3.connect(\"desafio_sql_final.db\")\n",
    "cursor = conn.cursor()"
   ]
  },
  {
   "cell_type": "markdown",
   "id": "38afb454",
   "metadata": {},
   "source": [
    "#### Creación de tablas "
   ]
  },
  {
   "cell_type": "code",
   "execution_count": 3,
   "id": "02f81631",
   "metadata": {},
   "outputs": [
    {
     "data": {
      "text/plain": [
       "<sqlite3.Cursor at 0x1f1b7431340>"
      ]
     },
     "execution_count": 3,
     "metadata": {},
     "output_type": "execute_result"
    }
   ],
   "source": [
    "cursor.execute('''\n",
    "CREATE TABLE peliculas (\n",
    "    id_pelicula INTEGER PRIMARY KEY AUTOINCREMENT,\n",
    "    titulo TEXT NOT NULL\n",
    ")\n",
    "''') "
   ]
  },
  {
   "cell_type": "code",
   "execution_count": 4,
   "id": "53377231",
   "metadata": {},
   "outputs": [
    {
     "data": {
      "text/plain": [
       "<sqlite3.Cursor at 0x1f1b7431340>"
      ]
     },
     "execution_count": 4,
     "metadata": {},
     "output_type": "execute_result"
    }
   ],
   "source": [
    "cursor.execute('''\n",
    "CREATE TABLE tag (\n",
    "    id_tag INTEGER PRIMARY KEY AUTOINCREMENT,\n",
    "    nombre TEXT NOT NULL\n",
    ")               \n",
    "''')"
   ]
  },
  {
   "cell_type": "code",
   "execution_count": 5,
   "id": "0d4140bd",
   "metadata": {},
   "outputs": [
    {
     "data": {
      "text/plain": [
       "<sqlite3.Cursor at 0x1f1b7431340>"
      ]
     },
     "execution_count": 5,
     "metadata": {},
     "output_type": "execute_result"
    }
   ],
   "source": [
    "cursor.execute(''' \n",
    "CREATE TABLE pelicula_tag (\n",
    "    id_pelicula INTEGER,\n",
    "    id_tag INTEGER,\n",
    "    FOREIGN KEY (id_pelicula) REFERENCES peliculas(id_pelicula),\n",
    "    FOREIGN KEY (id_tag) REFERENCES tags(id_tags)           \n",
    ")\n",
    "''')"
   ]
  },
  {
   "cell_type": "markdown",
   "id": "fa32748e",
   "metadata": {},
   "source": [
    "#### Poblar con datos"
   ]
  },
  {
   "cell_type": "code",
   "execution_count": 7,
   "id": "4f1ea9fe",
   "metadata": {},
   "outputs": [],
   "source": [
    "cursor.executemany('INSERT INTO peliculas (titulo) VALUES (?)', [\n",
    "    ('Matrix',),\n",
    "    ('Inception',),\n",
    "    ('Interstellar',),\n",
    "    ('Gladiator',),\n",
    "    ('The Lord of the Rings',)\n",
    "])\n",
    "\n",
    "conn.commit()"
   ]
  },
  {
   "cell_type": "code",
   "execution_count": 8,
   "id": "67942ae2",
   "metadata": {},
   "outputs": [],
   "source": [
    "cursor.executemany('INSERT INTO tag (nombre) VALUES (?)', [\n",
    "    ('Ciencia ficcion',),\n",
    "    ('Suspenso',),\n",
    "    ('Accion',),\n",
    "    ('Drama',),\n",
    "    ('Fantasia',)\n",
    "    ])\n",
    "\n",
    "conn.commit()"
   ]
  },
  {
   "cell_type": "code",
   "execution_count": 9,
   "id": "2ba653d5",
   "metadata": {},
   "outputs": [
    {
     "data": {
      "text/html": [
       "<div>\n",
       "<style scoped>\n",
       "    .dataframe tbody tr th:only-of-type {\n",
       "        vertical-align: middle;\n",
       "    }\n",
       "\n",
       "    .dataframe tbody tr th {\n",
       "        vertical-align: top;\n",
       "    }\n",
       "\n",
       "    .dataframe thead th {\n",
       "        text-align: right;\n",
       "    }\n",
       "</style>\n",
       "<table border=\"1\" class=\"dataframe\">\n",
       "  <thead>\n",
       "    <tr style=\"text-align: right;\">\n",
       "      <th></th>\n",
       "      <th>id_pelicula</th>\n",
       "      <th>titulo</th>\n",
       "    </tr>\n",
       "  </thead>\n",
       "  <tbody>\n",
       "    <tr>\n",
       "      <th>0</th>\n",
       "      <td>1</td>\n",
       "      <td>Matrix</td>\n",
       "    </tr>\n",
       "    <tr>\n",
       "      <th>1</th>\n",
       "      <td>2</td>\n",
       "      <td>Inception</td>\n",
       "    </tr>\n",
       "    <tr>\n",
       "      <th>2</th>\n",
       "      <td>3</td>\n",
       "      <td>Interstellar</td>\n",
       "    </tr>\n",
       "    <tr>\n",
       "      <th>3</th>\n",
       "      <td>4</td>\n",
       "      <td>Gladiator</td>\n",
       "    </tr>\n",
       "    <tr>\n",
       "      <th>4</th>\n",
       "      <td>5</td>\n",
       "      <td>The Lord of the Rings</td>\n",
       "    </tr>\n",
       "    <tr>\n",
       "      <th>5</th>\n",
       "      <td>6</td>\n",
       "      <td>Matrix</td>\n",
       "    </tr>\n",
       "    <tr>\n",
       "      <th>6</th>\n",
       "      <td>7</td>\n",
       "      <td>Inception</td>\n",
       "    </tr>\n",
       "    <tr>\n",
       "      <th>7</th>\n",
       "      <td>8</td>\n",
       "      <td>Interstellar</td>\n",
       "    </tr>\n",
       "    <tr>\n",
       "      <th>8</th>\n",
       "      <td>9</td>\n",
       "      <td>Gladiator</td>\n",
       "    </tr>\n",
       "    <tr>\n",
       "      <th>9</th>\n",
       "      <td>10</td>\n",
       "      <td>The Lord of the Rings</td>\n",
       "    </tr>\n",
       "  </tbody>\n",
       "</table>\n",
       "</div>"
      ],
      "text/plain": [
       "   id_pelicula                 titulo\n",
       "0            1                 Matrix\n",
       "1            2              Inception\n",
       "2            3           Interstellar\n",
       "3            4              Gladiator\n",
       "4            5  The Lord of the Rings\n",
       "5            6                 Matrix\n",
       "6            7              Inception\n",
       "7            8           Interstellar\n",
       "8            9              Gladiator\n",
       "9           10  The Lord of the Rings"
      ]
     },
     "execution_count": 9,
     "metadata": {},
     "output_type": "execute_result"
    }
   ],
   "source": [
    "\n",
    "# Ver tablas\n",
    "pd.read_sql_query(\"SELECT name FROM sqlite_master WHERE type='table'\", conn)\n",
    "\n",
    "# Ver datos de una tabla\n",
    "pd.read_sql_query(\"SELECT * FROM peliculas\", conn)"
   ]
  },
  {
   "cell_type": "code",
   "execution_count": 10,
   "id": "fb2b1c34",
   "metadata": {},
   "outputs": [],
   "source": [
    "cursor.executemany('''\n",
    "INSERT INTO pelicula_tag (id_pelicula, id_tag) \n",
    "values (?,?)\n",
    "''', [\n",
    "    (1,1),\n",
    "    (1,2),\n",
    "    (2,1),\n",
    "    (2,5),\n",
    "    (3,1),\n",
    "    (3,2),\n",
    "    (3,4),\n",
    "])\n",
    "conn.commit()"
   ]
  },
  {
   "cell_type": "markdown",
   "id": "0be729b9",
   "metadata": {},
   "source": [
    "#### Revisar si se realizo bien el cruce entre tablas y su correcto etiquetado según el género\n"
   ]
  },
  {
   "cell_type": "code",
   "execution_count": 15,
   "id": "038af5d0",
   "metadata": {},
   "outputs": [
    {
     "name": "stdout",
     "output_type": "stream",
     "text": [
      "('Inception', 'Ciencia ficcion')\n",
      "('Inception', 'Fantasia')\n",
      "('Interstellar', 'Ciencia ficcion')\n",
      "('Interstellar', 'Suspenso')\n",
      "('Interstellar', 'Drama')\n",
      "('Matrix', 'Ciencia ficcion')\n",
      "('Matrix', 'Suspenso')\n"
     ]
    }
   ],
   "source": [
    "cursor.execute('''\n",
    "SELECT p.titulo AS Pelicula, t.nombre AS Genero\n",
    "FROM peliculas p\n",
    "JOIN pelicula_tag pt ON p.id_pelicula = pt.id_pelicula\n",
    "JOIN tag t ON t.id_tag = pt.id_tag\n",
    "ORDER BY p.titulo\n",
    "''')\n",
    "\n",
    "for row in cursor.fetchall():\n",
    "    print(row)\n",
    "\n"
   ]
  },
  {
   "cell_type": "markdown",
   "id": "3ff7b92c",
   "metadata": {},
   "source": [
    "---"
   ]
  },
  {
   "cell_type": "markdown",
   "id": "1cc6f945",
   "metadata": {},
   "source": [
    "### Creación de tablas para comentarios de usuarios y revisar si su respuesta es correcta"
   ]
  },
  {
   "cell_type": "code",
   "execution_count": 31,
   "id": "2f5abc95",
   "metadata": {},
   "outputs": [
    {
     "data": {
      "text/plain": [
       "<sqlite3.Cursor at 0x1f1b7431340>"
      ]
     },
     "execution_count": 31,
     "metadata": {},
     "output_type": "execute_result"
    }
   ],
   "source": [
    "cursor.execute('''\n",
    "CREATE TABLE usuario (\n",
    "    id_usuario INTEGER PRIMARY KEY AUTOINCREMENT,\n",
    "    nombre TEXT NOT NULL,\n",
    "    edad INTEGER NOT NULL CHECK (edad >= 18),\n",
    "    email TEXT UNIQUE\n",
    ")\n",
    "''')\n"
   ]
  },
  {
   "cell_type": "code",
   "execution_count": 32,
   "id": "3f7c2f42",
   "metadata": {},
   "outputs": [
    {
     "data": {
      "text/plain": [
       "<sqlite3.Cursor at 0x1f1b7431340>"
      ]
     },
     "execution_count": 32,
     "metadata": {},
     "output_type": "execute_result"
    }
   ],
   "source": [
    "cursor.execute('''\n",
    "CREATE TABLE pregunta (\n",
    "    id_pregunta INTEGER PRIMARY KEY AUTOINCREMENT,\n",
    "    pregunta TEXT NOT NULL\n",
    ")\n",
    "''')\n"
   ]
  },
  {
   "cell_type": "code",
   "execution_count": 33,
   "id": "640ee8d9",
   "metadata": {},
   "outputs": [
    {
     "data": {
      "text/plain": [
       "<sqlite3.Cursor at 0x1f1b7431340>"
      ]
     },
     "execution_count": 33,
     "metadata": {},
     "output_type": "execute_result"
    }
   ],
   "source": [
    "cursor.execute('''\n",
    "CREATE TABLE respuesta (\n",
    "    id_respuesta INTEGER PRIMARY KEY AUTOINCREMENT,\n",
    "    id_usuario INTEGER NOT NULL,\n",
    "    id_pregunta INTEGER NOT NULL,\n",
    "    respuesta TEXT NOT NULL,\n",
    "    FOREIGN KEY (id_usuario) REFERENCES usuario(id_usuario) ON DELETE CASCADE,\n",
    "    FOREIGN KEY (id_pregunta) REFERENCES pregunta(id_pregunta)\n",
    ")\n",
    "''')\n"
   ]
  },
  {
   "cell_type": "code",
   "execution_count": 34,
   "id": "720c34cf",
   "metadata": {},
   "outputs": [
    {
     "data": {
      "text/plain": [
       "<sqlite3.Cursor at 0x1f1b7431340>"
      ]
     },
     "execution_count": 34,
     "metadata": {},
     "output_type": "execute_result"
    }
   ],
   "source": [
    "cursor.executemany('''\n",
    "INSERT INTO usuario (nombre, edad)\n",
    "VALUES (?, ?)\n",
    "''', [\n",
    "    ('Ana', 22),\n",
    "    ('Bruno', 30),\n",
    "    ('Camila', 19),\n",
    "    ('Daniel', 27),\n",
    "    ('Eva', 35)\n",
    "])\n"
   ]
  },
  {
   "cell_type": "code",
   "execution_count": 35,
   "id": "40434975",
   "metadata": {},
   "outputs": [
    {
     "data": {
      "text/plain": [
       "<sqlite3.Cursor at 0x1f1b7431340>"
      ]
     },
     "execution_count": 35,
     "metadata": {},
     "output_type": "execute_result"
    }
   ],
   "source": [
    "cursor.executemany('''\n",
    "INSERT INTO pregunta (pregunta)\n",
    "VALUES (?)\n",
    "''', [\n",
    "    ('¿Capital de Francia?',),\n",
    "    ('¿Resultado de 2+2?',),\n",
    "    ('¿Color del cielo?',),\n",
    "    ('¿Animal que ladra?',),\n",
    "    ('¿Número de patas de una araña?',)\n",
    "])\n"
   ]
  },
  {
   "cell_type": "code",
   "execution_count": 37,
   "id": "aa7ccdb2",
   "metadata": {},
   "outputs": [],
   "source": [
    "cursor.executemany('''\n",
    "INSERT INTO respuesta (id_usuario, id_pregunta, respuesta)\n",
    "VALUES (?, ?, ?)\n",
    "''', [\n",
    "    (1, 1, '¿Capital de Francia?'),   \n",
    "    (2, 1, '¿Capital de Francia?'),   \n",
    "    (3, 2, '¿Resultado de 2+2?'),      \n",
    "    (4, 3, '¿Color del cielo?'),      \n",
    "    (5, 3, '¿Color del cielo?'),      \n",
    "    (4, 4, '¿Animal que ladra?'),       \n",
    "    (5, 5, '¿Número de patas de una araña?')  \n",
    "])\n",
    "conn.commit()\n",
    "\n"
   ]
  },
  {
   "cell_type": "code",
   "execution_count": 38,
   "id": "2c1ef525",
   "metadata": {},
   "outputs": [
    {
     "data": {
      "text/html": [
       "<div>\n",
       "<style scoped>\n",
       "    .dataframe tbody tr th:only-of-type {\n",
       "        vertical-align: middle;\n",
       "    }\n",
       "\n",
       "    .dataframe tbody tr th {\n",
       "        vertical-align: top;\n",
       "    }\n",
       "\n",
       "    .dataframe thead th {\n",
       "        text-align: right;\n",
       "    }\n",
       "</style>\n",
       "<table border=\"1\" class=\"dataframe\">\n",
       "  <thead>\n",
       "    <tr style=\"text-align: right;\">\n",
       "      <th></th>\n",
       "      <th>Usuario</th>\n",
       "      <th>Respuestas_Correctas</th>\n",
       "    </tr>\n",
       "  </thead>\n",
       "  <tbody>\n",
       "    <tr>\n",
       "      <th>0</th>\n",
       "      <td>Ana</td>\n",
       "      <td>2</td>\n",
       "    </tr>\n",
       "    <tr>\n",
       "      <th>1</th>\n",
       "      <td>Bruno</td>\n",
       "      <td>2</td>\n",
       "    </tr>\n",
       "    <tr>\n",
       "      <th>2</th>\n",
       "      <td>Camila</td>\n",
       "      <td>2</td>\n",
       "    </tr>\n",
       "    <tr>\n",
       "      <th>3</th>\n",
       "      <td>Daniel</td>\n",
       "      <td>4</td>\n",
       "    </tr>\n",
       "    <tr>\n",
       "      <th>4</th>\n",
       "      <td>Eva</td>\n",
       "      <td>4</td>\n",
       "    </tr>\n",
       "  </tbody>\n",
       "</table>\n",
       "</div>"
      ],
      "text/plain": [
       "  Usuario  Respuestas_Correctas\n",
       "0     Ana                     2\n",
       "1   Bruno                     2\n",
       "2  Camila                     2\n",
       "3  Daniel                     4\n",
       "4     Eva                     4"
      ]
     },
     "execution_count": 38,
     "metadata": {},
     "output_type": "execute_result"
    }
   ],
   "source": [
    "query = '''\n",
    "SELECT u.nombre AS Usuario, COUNT(*) AS Respuestas_Correctas\n",
    "FROM usuario u\n",
    "JOIN respuesta r ON u.id_usuario = r.id_usuario\n",
    "JOIN pregunta p ON r.id_pregunta = p.id_pregunta\n",
    "WHERE r.respuesta = p.pregunta\n",
    "GROUP BY u.nombre\n",
    "ORDER BY u.nombre\n",
    "'''\n",
    "\n",
    "df = pd.read_sql_query(query, conn)\n",
    "df\n"
   ]
  },
  {
   "cell_type": "code",
   "execution_count": 39,
   "id": "4a025cc0",
   "metadata": {},
   "outputs": [],
   "source": [
    "#borrar usuario 1\n",
    "cursor.execute('''\n",
    "DELETE FROM usuario\n",
    "WHERE id_usuario = 1\n",
    "''')\n",
    "conn.commit()"
   ]
  },
  {
   "cell_type": "code",
   "execution_count": 40,
   "id": "8112348b",
   "metadata": {},
   "outputs": [
    {
     "data": {
      "text/html": [
       "<div>\n",
       "<style scoped>\n",
       "    .dataframe tbody tr th:only-of-type {\n",
       "        vertical-align: middle;\n",
       "    }\n",
       "\n",
       "    .dataframe tbody tr th {\n",
       "        vertical-align: top;\n",
       "    }\n",
       "\n",
       "    .dataframe thead th {\n",
       "        text-align: right;\n",
       "    }\n",
       "</style>\n",
       "<table border=\"1\" class=\"dataframe\">\n",
       "  <thead>\n",
       "    <tr style=\"text-align: right;\">\n",
       "      <th></th>\n",
       "      <th>id_respuesta</th>\n",
       "      <th>Usuario</th>\n",
       "      <th>pregunta</th>\n",
       "      <th>respuesta</th>\n",
       "    </tr>\n",
       "  </thead>\n",
       "  <tbody>\n",
       "    <tr>\n",
       "      <th>0</th>\n",
       "      <td>2</td>\n",
       "      <td>Bruno</td>\n",
       "      <td>¿Capital de Francia?</td>\n",
       "      <td>¿Capital de Francia?</td>\n",
       "    </tr>\n",
       "    <tr>\n",
       "      <th>1</th>\n",
       "      <td>3</td>\n",
       "      <td>Camila</td>\n",
       "      <td>¿Resultado de 2+2?</td>\n",
       "      <td>¿Resultado de 2+2?</td>\n",
       "    </tr>\n",
       "    <tr>\n",
       "      <th>2</th>\n",
       "      <td>4</td>\n",
       "      <td>Daniel</td>\n",
       "      <td>¿Color del cielo?</td>\n",
       "      <td>¿Color del cielo?</td>\n",
       "    </tr>\n",
       "    <tr>\n",
       "      <th>3</th>\n",
       "      <td>5</td>\n",
       "      <td>Eva</td>\n",
       "      <td>¿Color del cielo?</td>\n",
       "      <td>¿Color del cielo?</td>\n",
       "    </tr>\n",
       "    <tr>\n",
       "      <th>4</th>\n",
       "      <td>6</td>\n",
       "      <td>Daniel</td>\n",
       "      <td>¿Animal que ladra?</td>\n",
       "      <td>¿Animal que ladra?</td>\n",
       "    </tr>\n",
       "    <tr>\n",
       "      <th>5</th>\n",
       "      <td>7</td>\n",
       "      <td>Eva</td>\n",
       "      <td>¿Número de patas de una araña?</td>\n",
       "      <td>¿Número de patas de una araña?</td>\n",
       "    </tr>\n",
       "    <tr>\n",
       "      <th>6</th>\n",
       "      <td>9</td>\n",
       "      <td>Bruno</td>\n",
       "      <td>¿Capital de Francia?</td>\n",
       "      <td>¿Capital de Francia?</td>\n",
       "    </tr>\n",
       "    <tr>\n",
       "      <th>7</th>\n",
       "      <td>10</td>\n",
       "      <td>Camila</td>\n",
       "      <td>¿Resultado de 2+2?</td>\n",
       "      <td>¿Resultado de 2+2?</td>\n",
       "    </tr>\n",
       "    <tr>\n",
       "      <th>8</th>\n",
       "      <td>11</td>\n",
       "      <td>Daniel</td>\n",
       "      <td>¿Color del cielo?</td>\n",
       "      <td>¿Color del cielo?</td>\n",
       "    </tr>\n",
       "    <tr>\n",
       "      <th>9</th>\n",
       "      <td>12</td>\n",
       "      <td>Eva</td>\n",
       "      <td>¿Color del cielo?</td>\n",
       "      <td>¿Color del cielo?</td>\n",
       "    </tr>\n",
       "    <tr>\n",
       "      <th>10</th>\n",
       "      <td>13</td>\n",
       "      <td>Daniel</td>\n",
       "      <td>¿Animal que ladra?</td>\n",
       "      <td>¿Animal que ladra?</td>\n",
       "    </tr>\n",
       "    <tr>\n",
       "      <th>11</th>\n",
       "      <td>14</td>\n",
       "      <td>Eva</td>\n",
       "      <td>¿Número de patas de una araña?</td>\n",
       "      <td>¿Número de patas de una araña?</td>\n",
       "    </tr>\n",
       "  </tbody>\n",
       "</table>\n",
       "</div>"
      ],
      "text/plain": [
       "    id_respuesta Usuario                        pregunta  \\\n",
       "0              2   Bruno            ¿Capital de Francia?   \n",
       "1              3  Camila              ¿Resultado de 2+2?   \n",
       "2              4  Daniel               ¿Color del cielo?   \n",
       "3              5     Eva               ¿Color del cielo?   \n",
       "4              6  Daniel              ¿Animal que ladra?   \n",
       "5              7     Eva  ¿Número de patas de una araña?   \n",
       "6              9   Bruno            ¿Capital de Francia?   \n",
       "7             10  Camila              ¿Resultado de 2+2?   \n",
       "8             11  Daniel               ¿Color del cielo?   \n",
       "9             12     Eva               ¿Color del cielo?   \n",
       "10            13  Daniel              ¿Animal que ladra?   \n",
       "11            14     Eva  ¿Número de patas de una araña?   \n",
       "\n",
       "                         respuesta  \n",
       "0             ¿Capital de Francia?  \n",
       "1               ¿Resultado de 2+2?  \n",
       "2                ¿Color del cielo?  \n",
       "3                ¿Color del cielo?  \n",
       "4               ¿Animal que ladra?  \n",
       "5   ¿Número de patas de una araña?  \n",
       "6             ¿Capital de Francia?  \n",
       "7               ¿Resultado de 2+2?  \n",
       "8                ¿Color del cielo?  \n",
       "9                ¿Color del cielo?  \n",
       "10              ¿Animal que ladra?  \n",
       "11  ¿Número de patas de una araña?  "
      ]
     },
     "execution_count": 40,
     "metadata": {},
     "output_type": "execute_result"
    }
   ],
   "source": [
    "\n",
    "query = '''\n",
    "SELECT r.id_respuesta, u.nombre AS Usuario, p.pregunta, r.respuesta\n",
    "FROM respuesta r\n",
    "JOIN usuario u ON r.id_usuario = u.id_usuario\n",
    "JOIN pregunta p ON r.id_pregunta = p.id_pregunta\n",
    "ORDER BY r.id_respuesta\n",
    "'''\n",
    "\n",
    "df_respuestas = pd.read_sql_query(query, conn)\n",
    "df_respuestas\n"
   ]
  },
  {
   "cell_type": "code",
   "execution_count": 41,
   "id": "94ec047d",
   "metadata": {},
   "outputs": [],
   "source": [
    "cursor.execute('''\n",
    "UPDATE usuario\n",
    "SET email = 'ana@example.com'\n",
    "WHERE nombre = 'Ana'\n",
    "''')\n",
    "\n",
    "cursor.execute('''\n",
    "UPDATE usuario\n",
    "SET email = 'bruno@example.com'\n",
    "WHERE nombre = 'Bruno'\n",
    "''')\n",
    "\n",
    "cursor.execute('''\n",
    "UPDATE usuario\n",
    "SET email = 'camila@example.com'\n",
    "WHERE nombre = 'Camila'\n",
    "''')\n",
    "\n",
    "cursor.execute('''\n",
    "UPDATE usuario\n",
    "SET email = 'daniel@example.com'\n",
    "WHERE nombre = 'Daniel'\n",
    "''')\n",
    "\n",
    "cursor.execute('''\n",
    "UPDATE usuario\n",
    "SET email = 'eva@example.com'\n",
    "WHERE nombre = 'Eva'\n",
    "''')\n",
    "\n",
    "conn.commit()\n",
    "\n",
    "\n"
   ]
  },
  {
   "cell_type": "code",
   "execution_count": 42,
   "id": "3b8fd0da",
   "metadata": {},
   "outputs": [
    {
     "name": "stdout",
     "output_type": "stream",
     "text": [
      "(2, 'Bruno', 30, 'bruno@example.com')\n",
      "(3, 'Camila', 19, 'camila@example.com')\n",
      "(4, 'Daniel', 27, 'daniel@example.com')\n",
      "(5, 'Eva', 35, 'eva@example.com')\n"
     ]
    }
   ],
   "source": [
    "cursor.execute('SELECT * FROM usuario')\n",
    "rows = cursor.fetchall()\n",
    "\n",
    "for row in rows:\n",
    "    print(row)\n"
   ]
  },
  {
   "cell_type": "code",
   "execution_count": 43,
   "id": "f0956462",
   "metadata": {},
   "outputs": [
    {
     "data": {
      "text/html": [
       "<div>\n",
       "<style scoped>\n",
       "    .dataframe tbody tr th:only-of-type {\n",
       "        vertical-align: middle;\n",
       "    }\n",
       "\n",
       "    .dataframe tbody tr th {\n",
       "        vertical-align: top;\n",
       "    }\n",
       "\n",
       "    .dataframe thead th {\n",
       "        text-align: right;\n",
       "    }\n",
       "</style>\n",
       "<table border=\"1\" class=\"dataframe\">\n",
       "  <thead>\n",
       "    <tr style=\"text-align: right;\">\n",
       "      <th></th>\n",
       "      <th>id_usuario</th>\n",
       "      <th>nombre</th>\n",
       "      <th>edad</th>\n",
       "      <th>email</th>\n",
       "    </tr>\n",
       "  </thead>\n",
       "  <tbody>\n",
       "    <tr>\n",
       "      <th>0</th>\n",
       "      <td>2</td>\n",
       "      <td>Bruno</td>\n",
       "      <td>30</td>\n",
       "      <td>bruno@example.com</td>\n",
       "    </tr>\n",
       "    <tr>\n",
       "      <th>1</th>\n",
       "      <td>3</td>\n",
       "      <td>Camila</td>\n",
       "      <td>19</td>\n",
       "      <td>camila@example.com</td>\n",
       "    </tr>\n",
       "    <tr>\n",
       "      <th>2</th>\n",
       "      <td>4</td>\n",
       "      <td>Daniel</td>\n",
       "      <td>27</td>\n",
       "      <td>daniel@example.com</td>\n",
       "    </tr>\n",
       "    <tr>\n",
       "      <th>3</th>\n",
       "      <td>5</td>\n",
       "      <td>Eva</td>\n",
       "      <td>35</td>\n",
       "      <td>eva@example.com</td>\n",
       "    </tr>\n",
       "  </tbody>\n",
       "</table>\n",
       "</div>"
      ],
      "text/plain": [
       "   id_usuario  nombre  edad               email\n",
       "0           2   Bruno    30   bruno@example.com\n",
       "1           3  Camila    19  camila@example.com\n",
       "2           4  Daniel    27  daniel@example.com\n",
       "3           5     Eva    35     eva@example.com"
      ]
     },
     "execution_count": 43,
     "metadata": {},
     "output_type": "execute_result"
    }
   ],
   "source": [
    "\n",
    "df_usuario = pd.read_sql_query('SELECT * FROM usuario', conn)\n",
    "df_usuario\n"
   ]
  }
 ],
 "metadata": {
  "kernelspec": {
   "display_name": "Python 3",
   "language": "python",
   "name": "python3"
  },
  "language_info": {
   "codemirror_mode": {
    "name": "ipython",
    "version": 3
   },
   "file_extension": ".py",
   "mimetype": "text/x-python",
   "name": "python",
   "nbconvert_exporter": "python",
   "pygments_lexer": "ipython3",
   "version": "3.11.9"
  }
 },
 "nbformat": 4,
 "nbformat_minor": 5
}
